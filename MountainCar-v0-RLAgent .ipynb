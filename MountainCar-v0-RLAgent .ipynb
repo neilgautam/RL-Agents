{
 "cells": [
  {
   "cell_type": "code",
   "execution_count": 1,
   "metadata": {},
   "outputs": [],
   "source": [
    "import gym \n",
    "import numpy as np\n",
    "import random\n",
    "from collections import deque\n",
    "import tensorflow as tf\n",
    "from tensorflow.keras.layers import *\n",
    "from tensorflow.keras.models import *\n",
    "from tensorflow.keras.optimizers import *\n",
    "import warnings\n",
    "import matplotlib.pyplot as plt"
   ]
  },
  {
   "cell_type": "code",
   "execution_count": 2,
   "metadata": {},
   "outputs": [],
   "source": [
    "warnings.filterwarnings(\"ignore\")"
   ]
  },
  {
   "cell_type": "code",
   "execution_count": 3,
   "metadata": {},
   "outputs": [],
   "source": [
    "env = gym.make(\"MountainCar-v0\")"
   ]
  },
  {
   "cell_type": "code",
   "execution_count": 4,
   "metadata": {},
   "outputs": [],
   "source": [
    "class Agent:\n",
    "    def __init__(self,state_size,action_size):\n",
    "        self.state_size = state_size\n",
    "        self.action_size = action_size\n",
    "        self.gamma = 0.95\n",
    "        self.epsilon = 1.00\n",
    "        self.epsilon_decay = 0.995\n",
    "        self.epsilon_min = 0.01\n",
    "        self.learning_rate= 0.001\n",
    "        self.memory = deque(maxlen = 2000)\n",
    "        self.model = self.create_model()\n",
    "        \n",
    "    def create_model(self):\n",
    "        model = Sequential()\n",
    "        model.add(Dense(16,activation = \"relu\",input_dim = self.state_size))\n",
    "        model.add(Dense(32,activation = \"relu\"))\n",
    "        model.add(Dense(self.action_size))\n",
    "        model.compile(loss = \"mse\",optimizer = Adam(lr = 0.001))\n",
    "        return model\n",
    "    \n",
    "    def remember(self,state,action,reward,next_state,done):\n",
    "        self.memory.append((state,action,reward,next_state,done))\n",
    "    \n",
    "    def act(self,state):\n",
    "        if np.random.rand()<= self.epsilon:\n",
    "            return random.randrange(self.action_size)\n",
    "        else:\n",
    "            return np.argmax(self.model.predict(state)[0])\n",
    "        \n",
    "    def train(self,batch_size):\n",
    "        minibatch = random.sample(self.memory,batch_size)\n",
    "        for experience in minibatch:\n",
    "            state , action,reward,next_state,done = experience\n",
    "            \n",
    "            if not done:\n",
    "                target = reward + self.gamma*np.amax(self.model.predict(next_state)[0])\n",
    "            else:\n",
    "                target = reward   \n",
    "            target_f = self.model.predict(state)\n",
    "            target_f[0][action] = target \n",
    "            \n",
    "            self.model.fit(state,target_f,epochs = 1,verbose= 0)\n",
    "        if self.epsilon >self.epsilon_min:\n",
    "            self.epsilon *= self.epsilon_decay\n",
    "            \n",
    "    def load(self,name):\n",
    "        self.model.load_weights(name)\n",
    "        \n",
    "    def save(self,name):\n",
    "        self.model.save_weights(name)\n",
    "        \n",
    "            "
   ]
  },
  {
   "cell_type": "code",
   "execution_count": 5,
   "metadata": {},
   "outputs": [],
   "source": [
    "state_size = 2\n",
    "action_size = 3\n",
    "agent = Agent(state_size,action_size)\n",
    "n_episodes = 500\n",
    "done = False"
   ]
  },
  {
   "cell_type": "code",
   "execution_count": null,
   "metadata": {},
   "outputs": [
    {
     "name": "stdout",
     "output_type": "stream",
     "text": [
      "Game Episode :0/500, High Score:2690.00,Exploration Rate:1.0\n",
      "Game Episode :1/500, High Score:2590.00,Exploration Rate:0.99\n",
      "Game Episode :2/500, High Score:2570.00,Exploration Rate:0.99\n",
      "Game Episode :3/500, High Score:2670.00,Exploration Rate:0.99\n",
      "Game Episode :4/500, High Score:2630.00,Exploration Rate:0.98\n",
      "Game Episode :5/500, High Score:2650.00,Exploration Rate:0.98\n",
      "Game Episode :6/500, High Score:2550.00,Exploration Rate:0.97\n",
      "Game Episode :7/500, High Score:2410.00,Exploration Rate:0.97\n",
      "Game Episode :8/500, High Score:2550.00,Exploration Rate:0.96\n",
      "Game Episode :9/500, High Score:2510.00,Exploration Rate:0.96\n",
      "Game Episode :10/500, High Score:2430.00,Exploration Rate:0.95\n",
      "Game Episode :11/500, High Score:2650.00,Exploration Rate:0.95\n",
      "Game Episode :12/500, High Score:2530.00,Exploration Rate:0.94\n",
      "Game Episode :13/500, High Score:2630.00,Exploration Rate:0.94\n",
      "Game Episode :14/500, High Score:2630.00,Exploration Rate:0.93\n",
      "Game Episode :15/500, High Score:2650.00,Exploration Rate:0.93\n",
      "Game Episode :16/500, High Score:2430.00,Exploration Rate:0.92\n",
      "Game Episode :17/500, High Score:2530.00,Exploration Rate:0.92\n",
      "Game Episode :18/500, High Score:2690.00,Exploration Rate:0.91\n",
      "Game Episode :19/500, High Score:2670.00,Exploration Rate:0.91\n",
      "Game Episode :20/500, High Score:2610.00,Exploration Rate:0.9\n",
      "Game Episode :21/500, High Score:2570.00,Exploration Rate:0.9\n",
      "Game Episode :22/500, High Score:2710.00,Exploration Rate:0.9\n",
      "Game Episode :23/500, High Score:2510.00,Exploration Rate:0.89\n",
      "Game Episode :24/500, High Score:2630.00,Exploration Rate:0.89\n",
      "Game Episode :25/500, High Score:2630.00,Exploration Rate:0.88\n",
      "Game Episode :26/500, High Score:2530.00,Exploration Rate:0.88\n",
      "Game Episode :27/500, High Score:2430.00,Exploration Rate:0.87\n",
      "Game Episode :28/500, High Score:2490.00,Exploration Rate:0.87\n",
      "Game Episode :29/500, High Score:2690.00,Exploration Rate:0.86\n",
      "Game Episode :30/500, High Score:2550.00,Exploration Rate:0.86\n"
     ]
    }
   ],
   "source": [
    "score_list = []\n",
    "for e in range(n_episodes):\n",
    "    state = env.reset()\n",
    "    state = np.reshape(state,[1,state_size])\n",
    "    score = 0.0\n",
    "    for time in range(200):\n",
    "        \n",
    "        env.render()\n",
    "        \n",
    "        action = agent.act(state) #action is 0 or 1\n",
    "\n",
    "        next_state,reward,done,other_info = env.step(action) \n",
    "        \n",
    "        if next_state[0]>state[0][0] and next_state[1]>0 and state[0][1]>0:\n",
    "            reward= reward +20\n",
    "        elif next_state[0]<state[0][0] and next_state[1]<= 0 and state[0][1]<= 0:\n",
    "            reward = reward +20\n",
    "            \n",
    "        if done :\n",
    "            reward += 3000\n",
    "        else :\n",
    "            reward -= 30\n",
    "            \n",
    "        next_state = np.reshape(next_state,[1,state_size])\n",
    "        agent.remember(state,action,reward,next_state,done)\n",
    "        state = next_state\n",
    "        score += reward\n",
    "       \n",
    "        if done:\n",
    "            score_list.append(score)\n",
    "            print(\"Game Episode :{}/{}, High Score:{:.2f},Exploration Rate:{:.2}\".format(e,n_episodes,score,agent.epsilon))\n",
    "            agent.train(128)\n",
    "            agent.save(\"mountaincar1.h5\")\n",
    "            break\n",
    "env.close()       \n",
    "plt.plot(score_list)\n",
    "plt.show()"
   ]
  },
  {
   "cell_type": "code",
   "execution_count": null,
   "metadata": {},
   "outputs": [],
   "source": []
  }
 ],
 "metadata": {
  "kernelspec": {
   "display_name": "Python 3",
   "language": "python",
   "name": "python3"
  },
  "language_info": {
   "codemirror_mode": {
    "name": "ipython",
    "version": 3
   },
   "file_extension": ".py",
   "mimetype": "text/x-python",
   "name": "python",
   "nbconvert_exporter": "python",
   "pygments_lexer": "ipython3",
   "version": "3.7.7"
  }
 },
 "nbformat": 4,
 "nbformat_minor": 4
}
